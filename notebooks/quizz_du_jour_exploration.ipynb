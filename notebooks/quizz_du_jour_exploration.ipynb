{
 "cells": [
  {
   "cell_type": "markdown",
   "id": "b2996a02",
   "metadata": {},
   "source": [
    "# Exploration: *Défi / Quiz du Jour* Results\n",
    "\n",
    "This notebook helps you: \n",
    "1. Inspect which quiz is mapped to a given date in the local SQLite DB.\n",
    "2. Load your locally recorded attempts & derived leaderboard (using `QuizDB.daily_table`).\n",
    "3. Fetch the public daily archive page, extract the massive embedded JSON-like ranking payload, and parse it.\n",
    "4. Locate a specific player's performance (e.g. `BastienZim`).\n",
    "5. (Optional) Compare local stored attempt vs. public archive score/duration.\n",
    "\n",
    "> Run the cells top-to-bottom. Adjust the `TARGET_DATE` and `PLAYER` variables as needed."
   ]
  },
  {
   "cell_type": "code",
   "execution_count": 1,
   "id": "f07c17a6",
   "metadata": {},
   "outputs": [
    {
     "name": "stdout",
     "output_type": "stream",
     "text": [
      "Sys path ok. Project root: /home/bastienzim/Documents/perso/fan2quizz\n"
     ]
    }
   ],
   "source": [
    "# Imports & path setup\n",
    "import sys, re, json, math, statistics, textwrap\n",
    "from pathlib import Path\n",
    "BASE = Path('..').resolve()  # notebook in notebooks/ -> go up one level\n",
    "if str(BASE) not in sys.path:\n",
    "    sys.path.insert(0, str(BASE))\n",
    "from src.database import QuizDB\n",
    "from src.scraper import QuizypediaScraper\n",
    "from src.utils import RateLimiter\n",
    "print('Sys path ok. Project root:', BASE)"
   ]
  },
  {
   "cell_type": "code",
   "execution_count": 2,
   "id": "62eb44b4",
   "metadata": {},
   "outputs": [
    {
     "name": "stdout",
     "output_type": "stream",
     "text": [
      "../db/quizypedia.db 2025-10-14 BastienZim\n"
     ]
    }
   ],
   "source": [
    "# Parameters\n",
    "DB_PATH = '../db/quizypedia.db'   # adjust if needed\n",
    "TARGET_DATE = '2025-10-14'        # YYYY-MM-DD\n",
    "PLAYER = 'BastienZim'             # Player nickname to locate in archive\n",
    "QUIZ_TOTAL_FALLBACK = 20          # If total questions not obvious in archive entry\n",
    "print(DB_PATH, TARGET_DATE, PLAYER)"
   ]
  },
  {
   "cell_type": "code",
   "execution_count": 3,
   "id": "42410da6",
   "metadata": {},
   "outputs": [
    {
     "name": "stdout",
     "output_type": "stream",
     "text": [
      "No daily quiz set locally for 2025-10-14. You can set one via CLI:\n",
      "  python -m src.cli set-daily --date 2025-10-14 --quiz-id <id>\n"
     ]
    }
   ],
   "source": [
    "# 1. Inspect daily quiz mapping\n",
    "from pprint import pprint\n",
    "\n",
    "db = QuizDB(DB_PATH)\n",
    "quiz_id = db.get_daily_quiz(TARGET_DATE)\n",
    "if quiz_id is None:\n",
    "    print(f\"No daily quiz set locally for {TARGET_DATE}. You can set one via CLI:\")\n",
    "    print(f\"  python -m src.cli set-daily --date {TARGET_DATE} --quiz-id <id>\")\n",
    "else:\n",
    "    quiz = db.get_quiz(quiz_id)\n",
    "    title = quiz['title'] if quiz else '(missing)'\n",
    "    print(f\"Date {TARGET_DATE} -> quiz_id={quiz_id}: {title}\")\n",
    "    if quiz:\n",
    "        print('Tags:', ', '.join(quiz['tags']))\n",
    "        print('Questions:', len(quiz['questions']))"
   ]
  },
  {
   "cell_type": "code",
   "execution_count": 4,
   "id": "f79fa599",
   "metadata": {},
   "outputs": [
    {
     "name": "stdout",
     "output_type": "stream",
     "text": [
      "No local attempts / leaderboard entries for this date yet.\n"
     ]
    }
   ],
   "source": [
    "# 2. Local leaderboard (derived from attempts)\n",
    "table = db.daily_table(TARGET_DATE) if quiz_id else []\n",
    "if not table:\n",
    "    print('No local attempts / leaderboard entries for this date yet.')\n",
    "else:\n",
    "    print('Local derived leaderboard:')\n",
    "    for rank, row in enumerate(table, start=1):\n",
    "        player, best_score, total, attempts, best_duration, external_rank = row\n",
    "        print(f'{rank:>3} {player:<15} {best_score}/{total} attempts={attempts} dur={best_duration} rank={external_rank}')"
   ]
  },
  {
   "cell_type": "code",
   "execution_count": 5,
   "id": "63bd24c1",
   "metadata": {},
   "outputs": [
    {
     "name": "stdout",
     "output_type": "stream",
     "text": [
      "Archive HTML length: 446072 bytes\n",
      "Raw payload length: 317410\n"
     ]
    }
   ],
   "source": [
    "# 3. Fetch archive page & capture embedded ranking payload\n",
    "scraper = QuizypediaScraper(rate_limiter=RateLimiter(0.2))\n",
    "html = scraper.get_daily_archive_html(int(TARGET_DATE[0:4]), int(TARGET_DATE[5:7]), int(TARGET_DATE[8:10]))\n",
    "print(f'Archive HTML length: {len(html)} bytes')\n",
    "\n",
    "# Strategy: the site embeds a long JS array of objects with key \"good_responses\".\n",
    "# We'll look for the first '[' followed by '{\"good_responses\"' and grab until the matching closing ']'.\n",
    "import re\n",
    "array_start = html.find('[{\"good_responses\"')\n",
    "raw_payload = None\n",
    "if array_start != -1:\n",
    "    # naive bracket counting to find the matching closing ']' at same nesting level\n",
    "    depth = 0\n",
    "    for i, ch in enumerate(html[array_start:], start=array_start):\n",
    "        if ch == '[':\n",
    "            depth += 1\n",
    "        elif ch == ']':\n",
    "            depth -= 1\n",
    "            if depth == 0:\n",
    "                raw_payload = html[array_start:i+1]\n",
    "                break\n",
    "if raw_payload:\n",
    "    print('Raw payload length:', len(raw_payload))\n",
    "else:\n",
    "    print('No payload array detected via bracket scan. Consider dumping HTML to inspect manually.')"
   ]
  },
  {
   "cell_type": "code",
   "execution_count": 6,
   "id": "bcafe1d0",
   "metadata": {},
   "outputs": [
    {
     "name": "stdout",
     "output_type": "stream",
     "text": [
      "Parsed 1439 ranking entries\n"
     ]
    },
    {
     "data": {
      "text/plain": [
       "[{'good_responses': 20,\n",
       "  'elapsed_time': 103,\n",
       "  'user': 'zentak',\n",
       "  'rank': 1,\n",
       "  'newScore': False,\n",
       "  'player': 'zentak',\n",
       "  'score': '<div class=\"myFont2  size12\"><span class=\"myFont2Bold\">20 / 20</span>  - 103 s</div>'},\n",
       " {'good_responses': 20,\n",
       "  'elapsed_time': 124,\n",
       "  'user': 'Suplex',\n",
       "  'rank': 2,\n",
       "  'newScore': False,\n",
       "  'player': 'Suplex',\n",
       "  'score': '<div class=\"myFont2  size12\"><span class=\"myFont2Bold\">20 / 20</span>  - 124 s</div>'}]"
      ]
     },
     "execution_count": 6,
     "metadata": {},
     "output_type": "execute_result"
    }
   ],
   "source": [
    "# 4. Clean & parse the payload into Python objects\n",
    "results = []\n",
    "if raw_payload:\n",
    "    cleaned = raw_payload.strip()\n",
    "    # Remove any trailing semicolon\n",
    "    if cleaned.endswith(';'):\n",
    "        cleaned = cleaned[:-1]\n",
    "    # JSON in page may contain shortened player names with ellipsis inside quotes (e.g., \"player\": \"chimereve@hotm...\")\n",
    "    # We'll preserve them (valid JSON) but for matching we'll compare prefixes before ellipsis.\n",
    "    import json, html as html_mod\n",
    "    # Replace escaped unicode \\u00e9 etc will be handled by json.loads automatically.\n",
    "    try:\n",
    "        results = json.loads(cleaned)\n",
    "    except json.JSONDecodeError as e:\n",
    "        print('Primary JSON parse failed:', e)\n",
    "        # Attempt a permissive fix: remove any JS comment-like fragments\n",
    "        cleaned2 = re.sub(r'//.*?\\n', '\\n', cleaned)\n",
    "        try:\n",
    "            results = json.loads(cleaned2)\n",
    "        except Exception as e2:\n",
    "            print('Secondary parse failed:', e2)\n",
    "print(f'Parsed {len(results)} ranking entries') if results else None\n",
    "results[:2]  # preview"
   ]
  },
  {
   "cell_type": "code",
   "execution_count": 7,
   "id": "cf32dc7c",
   "metadata": {},
   "outputs": [
    {
     "name": "stdout",
     "output_type": "stream",
     "text": [
      "Player BastienZim -> rank=998 score=11/20 duration=251s\n"
     ]
    }
   ],
   "source": [
    "# 5. Locate the target player in parsed results\n",
    "player_entry = None\n",
    "needle = PLAYER.lower()\n",
    "for obj in results:\n",
    "    uname = (obj.get('user') or obj.get('player') or '').lower()\n",
    "    if uname == needle:\n",
    "        player_entry = obj\n",
    "        break\n",
    "    # Allow prefix match before ellipsis truncation\n",
    "    if uname.endswith('...') and needle.startswith(uname[:-3]):\n",
    "        player_entry = obj\n",
    "        break\n",
    "\n",
    "if player_entry:\n",
    "    rank = player_entry.get('rank')\n",
    "    good = player_entry.get('good_responses')\n",
    "    elapsed = player_entry.get('elapsed_time')\n",
    "    total = QUIZ_TOTAL_FALLBACK\n",
    "    print(f'Player {PLAYER} -> rank={rank} score={good}/{total} duration={elapsed}s')\n",
    "else:\n",
    "    print(f'Player {PLAYER} not found in parsed archive data.')"
   ]
  },
  {
   "cell_type": "code",
   "execution_count": 8,
   "id": "3d98dc75",
   "metadata": {},
   "outputs": [
    {
     "name": "stdout",
     "output_type": "stream",
     "text": [
      "Scores: n=1439 min=0 max=20 mean=12.48\n",
      "Durations: n=1439 min=70 max=428 median=233\n"
     ]
    }
   ],
   "source": [
    "# 6. Basic distribution stats\n",
    "import statistics\n",
    "if results:\n",
    "    scores = [r.get('good_responses') for r in results if isinstance(r.get('good_responses'), int)]\n",
    "    durations = [r.get('elapsed_time') for r in results if isinstance(r.get('elapsed_time'), int)]\n",
    "    if scores:\n",
    "        print(f'Scores: n={len(scores)} min={min(scores)} max={max(scores)} mean={statistics.mean(scores):.2f}')\n",
    "    if durations:\n",
    "        print(f'Durations: n={len(durations)} min={min(durations)} max={max(durations)} median={statistics.median(durations)}')\n",
    "else:\n",
    "    print('No parsed results to summarize.')"
   ]
  },
  {
   "cell_type": "code",
   "execution_count": 9,
   "id": "f50aac5e",
   "metadata": {},
   "outputs": [
    {
     "name": "stdout",
     "output_type": "stream",
     "text": [
      "\u001b[2mResolved \u001b[1m24 packages\u001b[0m \u001b[2min 0.61ms\u001b[0m\u001b[0m\n",
      "\u001b[2mAudited \u001b[1m22 packages\u001b[0m \u001b[2min 0.02ms\u001b[0m\u001b[0m\n"
     ]
    }
   ],
   "source": [
    "! uv add pandas\n"
   ]
  },
  {
   "cell_type": "code",
   "execution_count": 13,
   "id": "d893ef49",
   "metadata": {},
   "outputs": [
    {
     "data": {
      "text/html": [
       "<pre style=\"white-space:pre;overflow-x:auto;line-height:normal;font-family:Menlo,'DejaVu Sans Mono',consolas,'Courier New',monospace\"><span style=\"font-style: italic\">                          Selected Players (5)                           </span>\n",
       "       ╷                  ╷                ╷       ╷      ╷              \n",
       " <span style=\"color: #008080; text-decoration-color: #008080; font-weight: bold\"> rank </span>│<span style=\"color: #008080; text-decoration-color: #008080; font-weight: bold\">      player      </span>│<span style=\"color: #008080; text-decoration-color: #008080; font-weight: bold\"> good_responses </span>│<span style=\"color: #008080; text-decoration-color: #008080; font-weight: bold\"> total </span>│<span style=\"color: #008080; text-decoration-color: #008080; font-weight: bold\"> pct  </span>│<span style=\"color: #008080; text-decoration-color: #008080; font-weight: bold\"> elapsed_fmt </span> \n",
       " ══════╪══════════════════╪════════════════╪═══════╪══════╪═════════════ \n",
       " <span style=\"color: #808000; text-decoration-color: #808000; font-weight: bold\"> 472  </span>│<span style=\"color: #c0c0c0; text-decoration-color: #c0c0c0\">    jutabouret    </span>│<span style=\"color: #00ff00; text-decoration-color: #00ff00\">       14       </span>│<span style=\"color: #008000; text-decoration-color: #008000\">  20   </span>│<span style=\"color: #800080; text-decoration-color: #800080\"> 70.0 </span>│<span style=\"color: #000080; text-decoration-color: #000080\">    3:42     </span> \n",
       " <span style=\"color: #808000; text-decoration-color: #808000; font-weight: bold\"> 507  </span>│<span style=\"color: #c0c0c0; text-decoration-color: #c0c0c0\"> Pascal-Condamine </span>│<span style=\"color: #00ff00; text-decoration-color: #00ff00\">       14       </span>│<span style=\"color: #008000; text-decoration-color: #008000\">  20   </span>│<span style=\"color: #800080; text-decoration-color: #800080\"> 70.0 </span>│<span style=\"color: #000080; text-decoration-color: #000080\">    4:24     </span> \n",
       " <span style=\"color: #808000; text-decoration-color: #808000; font-weight: bold\"> 998  </span>│<span style=\"color: #c0c0c0; text-decoration-color: #c0c0c0\">    BastienZim    </span>│<span style=\"color: #00ff00; text-decoration-color: #00ff00\">       11       </span>│<span style=\"color: #008000; text-decoration-color: #008000\">  20   </span>│<span style=\"color: #800080; text-decoration-color: #800080\"> 55.0 </span>│<span style=\"color: #000080; text-decoration-color: #000080\">    4:11     </span> \n",
       " <span style=\"color: #808000; text-decoration-color: #808000; font-weight: bold\"> 1002 </span>│<span style=\"color: #c0c0c0; text-decoration-color: #c0c0c0\">   KylianMbappe   </span>│<span style=\"color: #00ff00; text-decoration-color: #00ff00\">       11       </span>│<span style=\"color: #008000; text-decoration-color: #008000\">  20   </span>│<span style=\"color: #800080; text-decoration-color: #800080\"> 55.0 </span>│<span style=\"color: #000080; text-decoration-color: #000080\">    4:12     </span> \n",
       " <span style=\"color: #808000; text-decoration-color: #808000; font-weight: bold\"> 1031 </span>│<span style=\"color: #c0c0c0; text-decoration-color: #c0c0c0\">      LouisH      </span>│<span style=\"color: #00ff00; text-decoration-color: #00ff00\">       11       </span>│<span style=\"color: #008000; text-decoration-color: #008000\">  20   </span>│<span style=\"color: #800080; text-decoration-color: #800080\"> 55.0 </span>│<span style=\"color: #000080; text-decoration-color: #000080\">    4:21     </span> \n",
       "       ╵                  ╵                ╵       ╵      ╵              \n",
       "</pre>\n"
      ],
      "text/plain": [
       "\u001b[3m                          Selected Players (5)                           \u001b[0m\n",
       "       ╷                  ╷                ╷       ╷      ╷              \n",
       " \u001b[1;36m \u001b[0m\u001b[1;36mrank\u001b[0m\u001b[1;36m \u001b[0m│\u001b[1;36m \u001b[0m\u001b[1;36m     player     \u001b[0m\u001b[1;36m \u001b[0m│\u001b[1;36m \u001b[0m\u001b[1;36mgood_responses\u001b[0m\u001b[1;36m \u001b[0m│\u001b[1;36m \u001b[0m\u001b[1;36mtotal\u001b[0m\u001b[1;36m \u001b[0m│\u001b[1;36m \u001b[0m\u001b[1;36mpct \u001b[0m\u001b[1;36m \u001b[0m│\u001b[1;36m \u001b[0m\u001b[1;36melapsed_fmt\u001b[0m\u001b[1;36m \u001b[0m \n",
       " ══════╪══════════════════╪════════════════╪═══════╪══════╪═════════════ \n",
       " \u001b[1;33m \u001b[0m\u001b[1;33m472 \u001b[0m\u001b[1;33m \u001b[0m│\u001b[37m \u001b[0m\u001b[37m   jutabouret   \u001b[0m\u001b[37m \u001b[0m│\u001b[92m \u001b[0m\u001b[92m      14      \u001b[0m\u001b[92m \u001b[0m│\u001b[32m \u001b[0m\u001b[32m 20  \u001b[0m\u001b[32m \u001b[0m│\u001b[35m \u001b[0m\u001b[35m70.0\u001b[0m\u001b[35m \u001b[0m│\u001b[34m \u001b[0m\u001b[34m   3:42    \u001b[0m\u001b[34m \u001b[0m \n",
       " \u001b[1;33m \u001b[0m\u001b[1;33m507 \u001b[0m\u001b[1;33m \u001b[0m│\u001b[37m \u001b[0m\u001b[37mPascal-Condamine\u001b[0m\u001b[37m \u001b[0m│\u001b[92m \u001b[0m\u001b[92m      14      \u001b[0m\u001b[92m \u001b[0m│\u001b[32m \u001b[0m\u001b[32m 20  \u001b[0m\u001b[32m \u001b[0m│\u001b[35m \u001b[0m\u001b[35m70.0\u001b[0m\u001b[35m \u001b[0m│\u001b[34m \u001b[0m\u001b[34m   4:24    \u001b[0m\u001b[34m \u001b[0m \n",
       " \u001b[1;33m \u001b[0m\u001b[1;33m998 \u001b[0m\u001b[1;33m \u001b[0m│\u001b[37m \u001b[0m\u001b[37m   BastienZim   \u001b[0m\u001b[37m \u001b[0m│\u001b[92m \u001b[0m\u001b[92m      11      \u001b[0m\u001b[92m \u001b[0m│\u001b[32m \u001b[0m\u001b[32m 20  \u001b[0m\u001b[32m \u001b[0m│\u001b[35m \u001b[0m\u001b[35m55.0\u001b[0m\u001b[35m \u001b[0m│\u001b[34m \u001b[0m\u001b[34m   4:11    \u001b[0m\u001b[34m \u001b[0m \n",
       " \u001b[1;33m \u001b[0m\u001b[1;33m1002\u001b[0m\u001b[1;33m \u001b[0m│\u001b[37m \u001b[0m\u001b[37m  KylianMbappe  \u001b[0m\u001b[37m \u001b[0m│\u001b[92m \u001b[0m\u001b[92m      11      \u001b[0m\u001b[92m \u001b[0m│\u001b[32m \u001b[0m\u001b[32m 20  \u001b[0m\u001b[32m \u001b[0m│\u001b[35m \u001b[0m\u001b[35m55.0\u001b[0m\u001b[35m \u001b[0m│\u001b[34m \u001b[0m\u001b[34m   4:12    \u001b[0m\u001b[34m \u001b[0m \n",
       " \u001b[1;33m \u001b[0m\u001b[1;33m1031\u001b[0m\u001b[1;33m \u001b[0m│\u001b[37m \u001b[0m\u001b[37m     LouisH     \u001b[0m\u001b[37m \u001b[0m│\u001b[92m \u001b[0m\u001b[92m      11      \u001b[0m\u001b[92m \u001b[0m│\u001b[32m \u001b[0m\u001b[32m 20  \u001b[0m\u001b[32m \u001b[0m│\u001b[35m \u001b[0m\u001b[35m55.0\u001b[0m\u001b[35m \u001b[0m│\u001b[34m \u001b[0m\u001b[34m   4:21    \u001b[0m\u001b[34m \u001b[0m \n",
       "       ╵                  ╵                ╵       ╵      ╵              \n"
      ]
     },
     "metadata": {},
     "output_type": "display_data"
    },
    {
     "name": "stdout",
     "output_type": "stream",
     "text": [
      "Missing players: kamaiel\n"
     ]
    }
   ],
   "source": [
    "# 7. Display selected players (pretty print using rich if available, else plain)\n",
    "# Configure the players you want to inspect (case-insensitive)\n",
    "SELECTED_PLAYERS = [\n",
    "    'jutabouret',\n",
    "    'louish',\n",
    "    'KylianMbappe',\n",
    "    'BastienZim',\n",
    "    'kamaiel',\n",
    "    'Pascal-Condamine'\n",
    "]\n",
    "\n",
    "import pandas as pd\n",
    "try:\n",
    "    from rich.console import Console\n",
    "    from rich.table import Table\n",
    "    from rich import box\n",
    "    HAS_RICH = True\n",
    "except ImportError:\n",
    "    HAS_RICH = False\n",
    "\n",
    "if not results:\n",
    "    print(\"No results parsed yet – run earlier cells first.\")\n",
    "else:\n",
    "    wanted = {p.lower(): p for p in SELECTED_PLAYERS}\n",
    "    rows = []\n",
    "    for obj in results:\n",
    "        uname = (obj.get('user') or obj.get('player') or '')\n",
    "        if uname.lower() in wanted:\n",
    "            rows.append({\n",
    "                'player': uname,\n",
    "                'rank': obj.get('rank'),\n",
    "                'good_responses': obj.get('good_responses'),\n",
    "                'total': QUIZ_TOTAL_FALLBACK,\n",
    "                'elapsed_time_s': obj.get('elapsed_time'),\n",
    "                'newScore': obj.get('newScore')\n",
    "            })\n",
    "    df = pd.DataFrame(rows)\n",
    "    if df.empty:\n",
    "        print(\"None of the selected players were found in the archive data.\")\n",
    "    else:\n",
    "        df['pct'] = (df['good_responses'] / df['total'] * 100).round(1)\n",
    "        def fmt_elapsed(x):\n",
    "            if pd.isna(x):\n",
    "                return ''\n",
    "            try:\n",
    "                x = int(x)\n",
    "            except Exception:\n",
    "                return ''\n",
    "            return f\"{x//60}:{x%60:02d}\" if x >= 60 else f\"0:{x:02d}\"\n",
    "        df['elapsed_fmt'] = df['elapsed_time_s'].apply(fmt_elapsed)\n",
    "        df = df.sort_values(['rank','player'], na_position='last')\n",
    "        display_cols = ['rank','player','good_responses','total','pct','elapsed_fmt']\n",
    "\n",
    "        if HAS_RICH:\n",
    "            console = Console()\n",
    "            table = Table(title=f\"Selected Players ({len(df)})\", box=box.MINIMAL_DOUBLE_HEAD, header_style=\"bold cyan\")\n",
    "            col_styles = {\n",
    "                'rank': 'bold yellow',\n",
    "                'player': 'white',\n",
    "                'good_responses': 'bright_green',\n",
    "                'total': 'green',\n",
    "                'pct': 'magenta',\n",
    "                'elapsed_fmt': 'blue'\n",
    "            }\n",
    "            for col in display_cols:\n",
    "                table.add_column(col, justify='center', style=col_styles.get(col, ''))\n",
    "            for _, r in df[display_cols].iterrows():\n",
    "                table.add_row(*[str(r[c]) if r[c] is not None else '' for c in display_cols])\n",
    "            console.print(table)\n",
    "        else:\n",
    "            # Plain fallback\n",
    "            print(\"(Install 'rich' for colored table: pip install rich)\")\n",
    "            print(df[display_cols].to_string(index=False))\n",
    "\n",
    "    missing = [p for p in SELECTED_PLAYERS if p.lower() not in {r['player'].lower() for r in rows}]\n",
    "    if missing:\n",
    "        print(\"Missing players:\", \", \".join(missing))"
   ]
  },
  {
   "cell_type": "code",
   "execution_count": null,
   "id": "15432d98",
   "metadata": {},
   "outputs": [],
   "source": []
  }
 ],
 "metadata": {
  "kernelspec": {
   "display_name": "fan2quizz",
   "language": "python",
   "name": "python3"
  },
  "language_info": {
   "codemirror_mode": {
    "name": "ipython",
    "version": 3
   },
   "file_extension": ".py",
   "mimetype": "text/x-python",
   "name": "python",
   "nbconvert_exporter": "python",
   "pygments_lexer": "ipython3",
   "version": "3.13.2"
  }
 },
 "nbformat": 4,
 "nbformat_minor": 5
}
